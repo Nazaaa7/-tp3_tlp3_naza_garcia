{
 "cells": [
  {
   "cell_type": "markdown",
   "id": "498731c6",
   "metadata": {},
   "source": [
    "# Trabajo Practico n3 - Trabajando con Lists y Sets.\n",
    "## Criterios de evaluación.\n",
    "\n",
    "* Se deben utilizar nombres de variables descriptivos y claros (Utilizar la nomeclatura correspondiente para los nombres de variables).\n",
    "* Comentarios claros y concisos que expliquen el propósito de cada sección del código.\n",
    "* Utilizar mensajes de commit **descriptivos**. (Puedes utilizar la extension CONVENTIONAL COMMIT de VS-CODE). \n",
    "* Entrega en tiempo y forma.\n",
    "* Todo el código desarrollado debe ser subido a un repositorio en GitHub (el nombre del repositorio de seguir la siguiente estructura: tp3_tlp3_nombre_apellido).\n",
    "* Para resolver las actividades se debe insertar casillas de codigo entre cada actividad del cuaderno de Jupyter\n",
    "* El repositorio de GitHub debe incluir un archivo README.md con las instrucciones necesarias para la correcta ejecución del código.\n",
    "\n",
    "### ¡Importante!\n",
    "**El incumplimiento de los criterios de evaluación restará puntos en la nota final del práctico!**"
   ]
  },
  {
   "cell_type": "markdown",
   "id": "b361a7b6",
   "metadata": {},
   "source": [
    "### Actividad 1: \n",
    "Suma de todos los elementos de una lista, utilizando bucles repetitivos (for, while)."
   ]
  },
  {
   "cell_type": "code",
   "execution_count": null,
   "id": "26009294",
   "metadata": {},
   "outputs": [],
   "source": [
    "\n",
    "# todo:\n",
    "\n",
    "numbers = [14, 23, 34, 48, 85] # delarar la lista con los numeros \n",
    "\n",
    "i = 0 \n",
    "suma = 0\n",
    "\n",
    "# mientras el indice sea menor que la longitud de la lista\n",
    "while i < len(numbers):\n",
    "    suma += numbers[i] # se suma el elemento actual al total\n",
    "    i += 1 # se incrementa el índice para pasar al siguiente número\n",
    "\n",
    "# se imprime el resultado total\n",
    "print(\"la suma de los elementos es:\", suma)\n"
   ]
  },
  {
   "cell_type": "markdown",
   "id": "0c239195",
   "metadata": {},
   "source": [
    "### Actividad 2: \n",
    "Encontrar el número más grande en una lista, utilizando bucles repetitivos (for, while)."
   ]
  },
  {
   "cell_type": "code",
   "execution_count": null,
   "id": "3611d25a",
   "metadata": {},
   "outputs": [],
   "source": [
    "\n",
    "# todo:\n",
    "\n",
    "#5.1\n",
    "from random import randint # se importa solo la función randint de la librería random\n",
    "\n",
    "# se genera una lista con 5 números aleatorios entre 1 y 100\n",
    "random_numbers = [randint(1, 100) for i in range(5)]\n",
    "\n",
    "# se usa la función max para encontrar el número más grande de la lista\n",
    "mayor = max(random_numbers)\n",
    "\n",
    "# se imprime la lista generada y el número más grande\n",
    "print(\"lista generada:\", random_numbers)\n",
    "print(\"el número más grande es:\", mayor)\n"
   ]
  },
  {
   "cell_type": "markdown",
   "id": "70a24b97",
   "metadata": {},
   "source": [
    "### Actividad 3:\n",
    "Contar cuántas veces aparece un número específico. Utiliza estructuras repetitivas para la resolucion de este ejercicio. "
   ]
  },
  {
   "cell_type": "code",
   "execution_count": 4,
   "id": "a9c8ebc7",
   "metadata": {},
   "outputs": [
    {
     "name": "stdout",
     "output_type": "stream",
     "text": [
      "lista generada: [10, 197, 38, 200, 157, 117, 111, 83, 7, 80, 127, 112, 138, 135, 121, 31, 137, 96, 138, 165]\n",
      "el número 1 aparece 0 veces en la lista.\n"
     ]
    }
   ],
   "source": [
    "\n",
    "# todo:\n",
    "\n",
    "from random import randint # se importa la función randint de la librería random\n",
    "\n",
    "# se genera una lista de 20 números aleatorios entre 1 y 200\n",
    "listas = [randint(1, 200) for i in range(20)]\n",
    "\n",
    "# se muestra la lista generada para que el usuario sepa qué contiene\n",
    "print(\"lista generada:\", listas)\n",
    "\n",
    "# se pide al usuario que ingrese el número a buscar\n",
    "num = int(input(\"ingresá el número que querés buscar en la lista: \"))\n",
    "\n",
    "# se inicializa un contador en 0 para contar cuántas veces aparece el número\n",
    "contador = 0\n",
    "\n",
    "# se recorre la lista con un bucle for\n",
    "for i in listas:\n",
    "    if i == num: # si el número actual es igual al buscado\n",
    "        contador += 1 # se suma 1 al contador\n",
    "\n",
    "# se muestra cuántas veces apareció el número\n",
    "print(f\"el número {num} aparece {contador} veces en la lista.\")\n"
   ]
  },
  {
   "cell_type": "markdown",
   "id": "b8dac397",
   "metadata": {},
   "source": [
    "### Actividad 4: \n",
    "Invertir una lista sin usar reverse() ni [::-1]"
   ]
  },
  {
   "cell_type": "code",
   "execution_count": null,
   "id": "d04fd492",
   "metadata": {},
   "outputs": [],
   "source": [
    "\n",
    "# todo:\n",
    "\n",
    "lists_two = [randint(1, 50) for i in range(8)]"
   ]
  },
  {
   "cell_type": "markdown",
   "id": "8889d0f2",
   "metadata": {},
   "source": [
    "### Actividad 5:\n",
    "Sumar los elementos de dos listas posición por posición, utilizando solo bucles repetititivos (for,while)."
   ]
  },
  {
   "cell_type": "code",
   "execution_count": 5,
   "id": "bc0ec844",
   "metadata": {},
   "outputs": [
    {
     "name": "stdout",
     "output_type": "stream",
     "text": [
      "[3, 7, 11, 16, 18]\n"
     ]
    }
   ],
   "source": [
    "\n",
    "# todo:\n",
    "\n",
    "lists_one = [ 2,4,6,7,8 ]\n",
    "lists_two = [ 1,3,5,9,10 ]\n",
    "\n",
    "\n",
    "# lista vacia para guardar el resultado\n",
    "sum_lists = []\n",
    "\n",
    "# bucle que recorre las dos listas al mismo tiempo usando sus indices\n",
    "for i in range(len(lists_one)):\n",
    "    suma = lists_one[i] + lists_two[i]  # suma los elementos en la misma posición\n",
    "    sum_lists.append(suma)      # guarda el resultado en la nueva lista\n",
    "\n",
    "# mostrar la lista con la suma\n",
    "print(sum_lists)\n",
    "\n"
   ]
  },
  {
   "cell_type": "markdown",
   "id": "8ce33e6b",
   "metadata": {},
   "source": [
    "### Actividad 6:\n",
    "\n",
    "Escribir un programa que almacene el abecedario en una lista, elimine de la lista las letras que ocupen posiciones múltiplos de 3, y muestre por pantalla la lista resultante."
   ]
  },
  {
   "cell_type": "code",
   "execution_count": 6,
   "id": "b07326e2",
   "metadata": {},
   "outputs": [
    {
     "name": "stdout",
     "output_type": "stream",
     "text": [
      "Abecedario:  ['a', 'b', 'c', 'd', 'e', 'f', 'g', 'h', 'i', 'j', 'k', 'l', 'm', 'n', 'o', 'p', 'q', 'r', 's', 't', 'u', 'v', 'w', 'x', 'y', 'z']\n",
      "Abecedario sin letras múltiplos de 3 ['a', 'b', 'd', 'e', 'g', 'h', 'j', 'k', 'm', 'n', 'p', 'q', 's', 't', 'v', 'w', 'y', 'z']\n"
     ]
    }
   ],
   "source": [
    "\n",
    "# todo:\n",
    "\n",
    "abc = list(\"abcdefghijklmnopqrstuvwxyz\")\n",
    "print(\"Abecedario: \", abc)\n",
    "nuevo_abc= [letra for i, letra in enumerate(abc) if (i + 1) % 3 != 0]\n",
    "print(\"Abecedario sin letras múltiplos de 3\", nuevo_abc)"
   ]
  },
  {
   "cell_type": "markdown",
   "id": "5bfeb4b5",
   "metadata": {},
   "source": [
    "### Actividad 7:\n",
    "\n",
    "Escribir un programa que pida al usuario una palabra y muestre por pantalla si es un palíndromo (una palabra que se escribe de la misma forma al derecho y al reves)."
   ]
  },
  {
   "cell_type": "code",
   "execution_count": null,
   "id": "2365afcc",
   "metadata": {},
   "outputs": [],
   "source": [
    "\n",
    "# todo: \n",
    "\n",
    "palabra = input(\"Ingrese una palabra: \")\n",
    "\n",
    "# convertir la palabra a minúsculas para las comparaciones\n",
    "palabra = palabra.lower()\n",
    "\n",
    "# verificar si la palabra es igual al reves\n",
    "if palabra == palabra[::-1]: #recorre la cadena de atrás para adelante.\n",
    "    print(\"La palabra es un palíndromo\")  # si son iguales, es palíndromo\n",
    "else:\n",
    "    print(\"La palabra NO es un palíndromo\")  # si no, no lo es\n"
   ]
  },
  {
   "cell_type": "markdown",
   "id": "ed8b51be",
   "metadata": {},
   "source": [
    "### Actividad 8:\n",
    "\n",
    "Teniendo en cuenta el conjunto 1 y el conjunto 2, sin usar el operador de intersección &, calcular la intersección de dichos conjuntos."
   ]
  },
  {
   "cell_type": "code",
   "execution_count": null,
   "id": "21a434b9",
   "metadata": {},
   "outputs": [],
   "source": [
    "# todo:\n",
    "\n",
    "conjunto1 = {1, 2, 3, 4}\n",
    "conjunto2 = {3, 4, 5, 6}\n",
    "\n",
    "# crear un conjunto vacio para guardar la intersección\n",
    "interseccion = set()\n",
    "\n",
    "# recorrer cada elemento del primer conjunto\n",
    "for elemento in conjunto1:\n",
    "    if elemento in conjunto2:  # si está en el segundo\n",
    "        interseccion.add(elemento)  # agregarlo a la intersección\n",
    "\n",
    "# mostrar la intersección\n",
    "print(\"La intersección es:\", interseccion)\n"
   ]
  },
  {
   "cell_type": "markdown",
   "id": "31b460dc",
   "metadata": {},
   "source": [
    "### Actividad 9:\n",
    "Eliminar duplicados de una lista usando un set."
   ]
  },
  {
   "cell_type": "code",
   "execution_count": null,
   "id": "0ef62008",
   "metadata": {},
   "outputs": [],
   "source": [
    "\n",
    "# todo:\n",
    "lista = [1, 2, 2, 3, 4, 4, 5]\n"
   ]
  },
  {
   "cell_type": "markdown",
   "id": "075f1f2c",
   "metadata": {},
   "source": [
    "### Actividad 10:\n",
    "\n",
    "Escribir un programa que cree 2 matrices y realice su multiplicacion."
   ]
  },
  {
   "cell_type": "code",
   "execution_count": null,
   "id": "4c1fd0e1",
   "metadata": {},
   "outputs": [],
   "source": [
    "\n",
    "# todo:"
   ]
  }
 ],
 "metadata": {
  "kernelspec": {
   "display_name": "Python 3",
   "language": "python",
   "name": "python3"
  },
  "language_info": {
   "codemirror_mode": {
    "name": "ipython",
    "version": 3
   },
   "file_extension": ".py",
   "mimetype": "text/x-python",
   "name": "python",
   "nbconvert_exporter": "python",
   "pygments_lexer": "ipython3",
   "version": "3.13.2"
  }
 },
 "nbformat": 4,
 "nbformat_minor": 5
}
